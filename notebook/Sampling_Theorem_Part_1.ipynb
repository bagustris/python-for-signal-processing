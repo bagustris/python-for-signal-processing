{
 "cells": [
  {
   "cell_type": "markdown",
   "metadata": {},
   "source": [
    "# Sampling Theorem - Part 1"
   ]
  },
  {
   "cell_type": "markdown",
   "metadata": {},
   "source": [
    "This notebook introduces the fundamental concepts of the Sampling Theorem, also known as the Nyquist-Shannon sampling theorem.\n",
    "\n",
    "## Introduction\n",
    "\n",
    "The sampling theorem is one of the most important results in signal processing. It establishes the conditions under which a continuous-time signal can be perfectly reconstructed from its samples.\n",
    "\n",
    "**Theorem Statement**: If a signal $x(t)$ is band-limited to frequencies below $f_c$ Hz, then it can be perfectly reconstructed from samples taken at a rate of at least $2f_c$ samples per second.\n",
    "\n",
    "The minimum sampling rate $f_s = 2f_c$ is called the **Nyquist rate**."
   ]
  },
  {
   "cell_type": "code",
   "execution_count": null,
   "metadata": {
    "collapsed": false
   },
   "outputs": [],
   "source": [
    "# Import necessary libraries\n",
    "import numpy as np\n",
    "import matplotlib.pyplot as plt\n",
    "%matplotlib inline\n",
    "\n",
    "# Set up plotting parameters\n",
    "plt.rcParams['figure.figsize'] = (12, 8)\n",
    "plt.rcParams['font.size'] = 12"
   ]
  },
  {
   "cell_type": "markdown",
   "metadata": {},
   "source": [
    "## Basic Example: Sampling a Sinusoid\n",
    "\n",
    "Let's start with a simple example of sampling a sinusoidal signal and observe the effects of different sampling rates."
   ]
  },
  {
   "cell_type": "code",
   "execution_count": null,
   "metadata": {
    "collapsed": false
   },
   "outputs": [],
   "source": [
    "# Define a continuous-time sinusoid\n",
    "f_signal = 5  # Signal frequency in Hz\n",
    "T = 2  # Duration in seconds\n",
    "t_continuous = np.linspace(0, T, 1000)\n",
    "x_continuous = np.sin(2 * np.pi * f_signal * t_continuous)\n",
    "\n",
    "# Sample at different rates\n",
    "fs1 = 8   # Below Nyquist rate (2 * 5 = 10 Hz)\n",
    "fs2 = 10  # At Nyquist rate\n",
    "fs3 = 20  # Above Nyquist rate\n",
    "\n",
    "# Generate sample points\n",
    "t1 = np.arange(0, T, 1/fs1)\n",
    "t2 = np.arange(0, T, 1/fs2)\n",
    "t3 = np.arange(0, T, 1/fs3)\n",
    "\n",
    "x1 = np.sin(2 * np.pi * f_signal * t1)\n",
    "x2 = np.sin(2 * np.pi * f_signal * t2)\n",
    "x3 = np.sin(2 * np.pi * f_signal * t3)\n",
    "\n",
    "# Plot the results\n",
    "plt.figure(figsize=(15, 10))\n",
    "\n",
    "plt.subplot(3, 1, 1)\n",
    "plt.plot(t_continuous, x_continuous, 'b-', linewidth=2, label='Original signal')\n",
    "plt.plot(t1, x1, 'ro-', markersize=8, label=f'Sampled at {fs1} Hz (below Nyquist)')\n",
    "plt.title(f'Sampling at {fs1} Hz (Below Nyquist Rate of {2*f_signal} Hz)')\n",
    "plt.xlabel('Time (s)')\n",
    "plt.ylabel('Amplitude')\n",
    "plt.legend()\n",
    "plt.grid(True)\n",
    "\n",
    "plt.subplot(3, 1, 2)\n",
    "plt.plot(t_continuous, x_continuous, 'b-', linewidth=2, label='Original signal')\n",
    "plt.plot(t2, x2, 'go-', markersize=8, label=f'Sampled at {fs2} Hz (at Nyquist)')\n",
    "plt.title(f'Sampling at {fs2} Hz (At Nyquist Rate)')\n",
    "plt.xlabel('Time (s)')\n",
    "plt.ylabel('Amplitude')\n",
    "plt.legend()\n",
    "plt.grid(True)\n",
    "\n",
    "plt.subplot(3, 1, 3)\n",
    "plt.plot(t_continuous, x_continuous, 'b-', linewidth=2, label='Original signal')\n",
    "plt.plot(t3, x3, 'mo-', markersize=8, label=f'Sampled at {fs3} Hz (above Nyquist)')\n",
    "plt.title(f'Sampling at {fs3} Hz (Above Nyquist Rate)')\n",
    "plt.xlabel('Time (s)')\n",
    "plt.ylabel('Amplitude')\n",
    "plt.legend()\n",
    "plt.grid(True)\n",
    "\n",
    "plt.tight_layout()\n",
    "plt.show()"
   ]
  },
  {
   "cell_type": "markdown",
   "metadata": {},
   "source": [
    "## Key Observations\n",
    "\n",
    "From the plots above, we can observe:\n",
    "\n",
    "1. **Below Nyquist Rate**: When sampling below the Nyquist rate, we lose information about the original signal\n",
    "2. **At Nyquist Rate**: Sampling exactly at the Nyquist rate provides just enough information to reconstruct the signal\n",
    "3. **Above Nyquist Rate**: Oversampling provides more than enough information for perfect reconstruction\n",
    "\n",
    "## Next Steps\n",
    "\n",
    "In the next parts of this series, we will explore:\n",
    "- Aliasing effects when sampling below the Nyquist rate\n",
    "- Reconstruction techniques using sinc interpolation\n",
    "- Practical considerations in real-world sampling systems"
   ]
  }
 ],
 "metadata": {
  "kernelspec": {
   "display_name": "Python 3",
   "language": "python",
   "name": "python3"
  },
  "language_info": {
   "codemirror_mode": {
    "name": "ipython",
    "version": 3
   },
   "file_extension": ".py",
   "mimetype": "text/x-python",
   "name": "python",
   "nbconvert_exporter": "python",
   "pygments_lexer": "ipython3",
   "version": "3.8.0"
  }
 },
 "nbformat": 4,
 "nbformat_minor": 4
}